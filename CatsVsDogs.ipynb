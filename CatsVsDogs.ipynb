{
  "nbformat": 4,
  "nbformat_minor": 0,
  "metadata": {
    "colab": {
      "private_outputs": true,
      "provenance": [],
      "gpuType": "T4",
      "cell_execution_strategy": "setup",
      "authorship_tag": "ABX9TyPc2gTIImdt/8rkP65NMtLC",
      "include_colab_link": true
    },
    "kernelspec": {
      "name": "python3",
      "display_name": "Python 3"
    },
    "language_info": {
      "name": "python"
    },
    "accelerator": "GPU"
  },
  "cells": [
    {
      "cell_type": "markdown",
      "metadata": {
        "id": "view-in-github",
        "colab_type": "text"
      },
      "source": [
        "<a href=\"https://colab.research.google.com/github/NIXBLACK11/neuralNetworks/blob/main/CatsVsDogs.ipynb\" target=\"_parent\"><img src=\"https://colab.research.google.com/assets/colab-badge.svg\" alt=\"Open In Colab\"/></a>"
      ]
    },
    {
      "cell_type": "markdown",
      "source": [
        "# Downloading the dataset"
      ],
      "metadata": {
        "id": "mJFiokFhwPmh"
      }
    },
    {
      "cell_type": "code",
      "execution_count": null,
      "metadata": {
        "id": "VBikaBeWuGFu"
      },
      "outputs": [],
      "source": [
        "!wget \"https://download.microsoft.com/download/3/E/1/3E1C3F21-ECDB-4869-8368-6DEBA77B919F/kagglecatsanddogs_5340.zip\" -O catsVsDogs.zip\n",
        "!unzip catsVsDogs.zip > /dev/null\n",
        "!mv PetImages/Cat PetImages/Cats\n",
        "!mv PetImages/Dog PetImages/Dogs"
      ]
    },
    {
      "cell_type": "code",
      "source": [
        "import os\n",
        "import cv2\n",
        "import numpy as np\n",
        "from tqdm import tqdm"
      ],
      "metadata": {
        "id": "goZqBzecwO7t"
      },
      "execution_count": null,
      "outputs": []
    },
    {
      "cell_type": "code",
      "source": [
        "REBUILD_DATA = True"
      ],
      "metadata": {
        "id": "yHsODL8xwvJH"
      },
      "execution_count": null,
      "outputs": []
    },
    {
      "cell_type": "code",
      "source": [
        "class DogsVsCats():\n",
        "  IMG_SIZE = 50\n",
        "  CATS = \"/content/PetImages/Cats\"\n",
        "  DOGS = \"/content/PetImages/Dogs\"\n",
        "  LABELS = {CATS: 0, DOGS: 1}\n",
        "\n",
        "  training_data = []\n",
        "  catCount = 0\n",
        "  dogCount = 0\n",
        "\n",
        "  def make_training_data(self):\n",
        "    for label in self.LABELS:\n",
        "      print(label)\n",
        "      for f in tqdm(os.listdir(label)):\n",
        "        try:\n",
        "          path = os.path.join(label, f)\n",
        "          img = cv2.imread(path, cv2.IMREAD_GRAYSCALE)\n",
        "          img = cv2.resize(img, (self.IMG_SIZE, self.IMG_SIZE))\n",
        "          self.training_data.append([np.array(img), np.eye(2)[self.LABELS[label]]])\n",
        "\n",
        "          if label==self.CATS:\n",
        "            self.catCount += 1\n",
        "          else:\n",
        "            self.dogCount += 1\n",
        "        except Exception as e:\n",
        "          # print(f\"Error in image of{label}\")\n",
        "          pass\n",
        "\n",
        "    np.random.shuffle(self.training_data)\n",
        "    np.save(\"training_data.npy\", self.training_data)\n",
        "    print(\"Cats:\", self.catCount)\n",
        "    print(\"Dogs:\", self.dogCount)"
      ],
      "metadata": {
        "id": "6nAjByaVw1uG"
      },
      "execution_count": null,
      "outputs": []
    },
    {
      "cell_type": "code",
      "source": [
        "if REBUILD_DATA:\n",
        "    dogvcats = DogsVsCats()\n",
        "    dogvcats.make_training_data()"
      ],
      "metadata": {
        "id": "XjmjMkqE1Fgo"
      },
      "execution_count": null,
      "outputs": []
    },
    {
      "cell_type": "code",
      "source": [
        "training_data = np.load(\"training_data.npy\", allow_pickle=True)"
      ],
      "metadata": {
        "id": "2J79Ci7R2_pz"
      },
      "execution_count": null,
      "outputs": []
    },
    {
      "cell_type": "code",
      "source": [
        "print(len(training_data))"
      ],
      "metadata": {
        "id": "k7ipdpKe3hYk"
      },
      "execution_count": null,
      "outputs": []
    },
    {
      "cell_type": "code",
      "source": [
        "print(training_data[0])"
      ],
      "metadata": {
        "id": "beNZjvKO3q12"
      },
      "execution_count": null,
      "outputs": []
    },
    {
      "cell_type": "code",
      "source": [
        "import matplotlib.pyplot as plt\n",
        "plt.imshow(training_data[0][0], cmap=\"gray\")\n",
        "plt.show()"
      ],
      "metadata": {
        "id": "qCYucHeC38_G"
      },
      "execution_count": null,
      "outputs": []
    },
    {
      "cell_type": "code",
      "source": [
        "import torch\n",
        "import torch.nn as nn\n",
        "import torch.nn.functional as F\n",
        "\n",
        "if torch.cuda.is_available():\n",
        "  device = torch.device(\"cuda:0\")\n",
        "  noGpu = torch.cuda.device_count()\n",
        "  print(f\"GPU:{noGpu}\")\n",
        "else:\n",
        "  device = torch.device(\"cpu\")\n",
        "  print(\"CPU\")"
      ],
      "metadata": {
        "id": "CqyjKwN638NA"
      },
      "execution_count": null,
      "outputs": []
    },
    {
      "cell_type": "code",
      "source": [
        "class Net(nn.Module):\n",
        "  def __init__(self):\n",
        "    super().__init__()\n",
        "    self.conv1 = nn.Conv2d(1, 32, 5)\n",
        "    self.conv2 = nn.Conv2d(32, 64, 5)\n",
        "    self.conv3 = nn.Conv2d(64, 128, 5)\n",
        "\n",
        "    x = torch.rand(50, 50).view(-1, 1, 50, 50)\n",
        "    self._to_linear = None\n",
        "    self.convs(x)\n",
        "\n",
        "    self.fc1 = nn.Linear(self._to_linear, 512)\n",
        "    self.fc2 = nn.Linear(512, 2)\n",
        "\n",
        "  def convs(self, x):\n",
        "    x = F.max_pool2d(F.relu(self.conv1(x)), (2,2))\n",
        "    x = F.max_pool2d(F.relu(self.conv2(x)), (2,2))\n",
        "    x = F.max_pool2d(F.relu(self.conv3(x)), (2,2))\n",
        "\n",
        "    # print(x[0].shape)\n",
        "    if self._to_linear is None:\n",
        "      self._to_linear = x[0].shape[0]*x[0].shape[1]*x[0].shape[2]\n",
        "    return x\n",
        "\n",
        "  def forward(self, x):\n",
        "    x = self.convs(x)\n",
        "    x = x.view(-1, self._to_linear)\n",
        "    x = F.relu(self.fc1(x))\n",
        "    x = self.fc2(x)\n",
        "    return F.softmax(x, dim=1)\n",
        "\n",
        "\n",
        "net = Net().to(device)"
      ],
      "metadata": {
        "id": "QwpVLx9w4c1P"
      },
      "execution_count": null,
      "outputs": []
    },
    {
      "cell_type": "code",
      "source": [
        "import torch.optim as optim\n",
        "\n",
        "optimizer = optim.Adam(net.parameters(), lr=0.001)\n",
        "loss_function = nn.MSELoss()\n",
        "\n",
        "X = torch.Tensor([i[0] for i in training_data]).view(-1, 50, 50)\n",
        "X = X/255.0\n",
        "y = torch.Tensor([i[1] for i in training_data])\n",
        "\n",
        "VAL_PCT = 0.1\n",
        "val_size = int(len(X)*VAL_PCT)\n",
        "print(val_size)\n",
        "\n"
      ],
      "metadata": {
        "id": "KialceRsm3lu"
      },
      "execution_count": null,
      "outputs": []
    },
    {
      "cell_type": "code",
      "source": [
        "train_X = X[:-val_size]\n",
        "train_y = y[:-val_size]\n",
        "\n",
        "test_X = X[-val_size:]\n",
        "test_y = y[-val_size:]\n",
        "\n",
        "print(len(train_X))\n",
        "print(len(test_X))"
      ],
      "metadata": {
        "id": "cr__hdnlq2OL"
      },
      "execution_count": null,
      "outputs": []
    },
    {
      "cell_type": "code",
      "source": [
        "BATCH_SIZE = 100\n",
        "EPOCHS = 20\n",
        "\n",
        "def train(net):\n",
        "  for epoch in range(EPOCHS):\n",
        "    for i in tqdm(range(0, len(train_X), BATCH_SIZE)):\n",
        "      # print(i, i+BATCH_SIZE)\n",
        "      batch_X = train_X[i:i+BATCH_SIZE].view(-1, 1, 50, 50).to(device)\n",
        "      batch_y = train_y[i:i+BATCH_SIZE].to(device)\n",
        "\n",
        "      net.zero_grad()\n",
        "      outputs = net(batch_X)\n",
        "      loss = loss_function(outputs, batch_y)\n",
        "      loss.backward()\n",
        "      optimizer.step()\n",
        "\n",
        "    print(f\"EPOCH:{epoch}, LOSS:{loss}\")\n",
        "\n",
        "train(net)"
      ],
      "metadata": {
        "id": "6XPH02tXrcQO"
      },
      "execution_count": null,
      "outputs": []
    },
    {
      "cell_type": "code",
      "source": [
        "def test(net):\n",
        "  correct = 0\n",
        "  total = 0\n",
        "  with torch.no_grad():\n",
        "    for i in tqdm(range(len(test_X))):\n",
        "      real_class = torch.argmax(test_y[i]).to(device)\n",
        "      net_out = net(test_X[i].view(-1, 1, 50, 50).to(device))[0]\n",
        "      predicted_class = torch.argmax(net_out)\n",
        "      if predicted_class == real_class:\n",
        "        correct += 1\n",
        "      total += 1\n",
        "\n",
        "    print(\"Accuracy:\", round(correct/total, 3))\n",
        "\n",
        "test(net)"
      ],
      "metadata": {
        "id": "k-dgtgqexA4g"
      },
      "execution_count": null,
      "outputs": []
    },
    {
      "cell_type": "code",
      "source": [
        "def fwd_pass(X, y, train=False):\n",
        "  if train:\n",
        "    net.zero_grad()\n",
        "  outputs = net(X)\n",
        "  matches = [torch.argmax(i) == torch.argmax(j) for i, j in zip(outputs, y)]\n",
        "  acc = matches.count(True)/len(matches)\n",
        "  loss = loss_function(outputs, y)\n",
        "\n",
        "  if train:\n",
        "    loss.backward()\n",
        "    optimizer.step()\n",
        "  return acc, loss"
      ],
      "metadata": {
        "id": "u17YgL8AHx_I"
      },
      "execution_count": null,
      "outputs": []
    },
    {
      "cell_type": "code",
      "source": [
        "def test(size=32):\n",
        "  random_start = np.random.randint(len(test_X)-size)\n",
        "  X, y = test_X[random_start:random_start+size], test_y[random_start:random_start+size]\n",
        "  with torch.no_grad():\n",
        "    val_acc, val_loss = fwd_pass(X.view(-1, 1, 50, 50).to(device), y.to(device))\n",
        "  return val_acc, val_loss\n",
        "\n",
        "val_acc, val_loss = test(size=32)\n",
        "print(val_acc, val_loss)"
      ],
      "metadata": {
        "id": "RVCGzvuBKAJi"
      },
      "execution_count": null,
      "outputs": []
    },
    {
      "cell_type": "code",
      "source": [
        "import time\n",
        "\n",
        "MODEL_NAME = f\"model-{int(time.time())}\"\n",
        "\n",
        "net = Net().to(device)\n",
        "optimizer = optim.Adam(net.parameters(), lr=0.001)\n",
        "loss_function = nn.MSELoss()\n",
        "\n",
        "print(MODEL_NAME)\n",
        "\n",
        "def train():\n",
        "  BATCH_SIZE = 100\n",
        "  EPOCHS = 50\n",
        "  with open(\"model_50epochs.log\", \"a\") as f:\n",
        "    for epoch in range(EPOCHS):\n",
        "      for i in tqdm(range(0, len(train_X), BATCH_SIZE)):\n",
        "        batch_X = train_X[i:i+BATCH_SIZE].view(-1, 1, 50, 50).to(device)\n",
        "        batch_y = train_y[i:i+BATCH_SIZE].to(device)\n",
        "\n",
        "        acc, loss = fwd_pass(batch_X, batch_y, train=True)\n",
        "        if i % 50 == 0:\n",
        "          val_acc, val_loss = test(size=100)\n",
        "          f.write(f\"{MODEL_NAME},{round(time.time(),3)},{round(float(acc),2)},{round(float(loss),4)},{round(float(val_acc),2)},{round(float(val_loss),4)}\\n\")\n",
        "\n",
        "\n",
        "train()\n"
      ],
      "metadata": {
        "id": "ip8_326vLAXJ"
      },
      "execution_count": null,
      "outputs": []
    },
    {
      "cell_type": "code",
      "source": [
        "from matplotlib import style\n",
        "style.use(\"ggplot\")\n",
        "model_name = \"model-1691921748\"\n",
        "\n",
        "def create_acc_loss_graph(model_name):\n",
        "  contents = open(\"model_50epochs.log\", \"r\").read().split(\"\\n\")\n",
        "\n",
        "  times = []\n",
        "  accuracies = []\n",
        "  losses = []\n",
        "\n",
        "  val_accs = []\n",
        "  val_losses = []\n",
        "\n",
        "  for c in contents:\n",
        "    if model_name in c:\n",
        "      name, timesstamp, acc, loss, val_acc, val_loss = c.split(\",\")\n",
        "\n",
        "      times.append(float(timesstamp))\n",
        "      accuracies.append(float(acc))\n",
        "      losses.append(float(loss))\n",
        "\n",
        "      val_accs.append(float(val_acc))\n",
        "      val_losses.append(float(val_loss))\n",
        "\n",
        "  fig = plt.figure()\n",
        "  ax1 = plt.subplot2grid((2, 1), (0, 0))\n",
        "  ax2 = plt.subplot2grid((2, 1), (1, 0), sharex=ax1)\n",
        "\n",
        "  ax1.plot(times, accuracies, label=\"acc\")\n",
        "  ax1.plot(times, val_accs, label=\"val_acc\")\n",
        "  ax1.legend(loc=2)\n",
        "\n",
        "  ax2.plot(times, losses, label=\"loss\")\n",
        "  ax2.plot(times, val_losses, label=\"val_loss\")\n",
        "  ax2.legend(loc=2)\n",
        "  plt.show()\n",
        "\n",
        "create_acc_loss_graph(model_name)"
      ],
      "metadata": {
        "id": "6ayywGuXSNhW"
      },
      "execution_count": null,
      "outputs": []
    }
  ]
}